{
 "cells": [
  {
   "cell_type": "markdown",
   "metadata": {},
   "source": [
    "# Wide Reciever Data Cleaning"
   ]
  },
  {
   "cell_type": "code",
   "execution_count": 1,
   "metadata": {},
   "outputs": [],
   "source": [
    "# import packages\n",
    "import os\n",
    "import pandas as pd\n",
    "import numpy as np\n",
    "import re\n",
    "import sys\n",
    "sys.path.append('../src/')\n",
    "from helpers import *"
   ]
  },
  {
   "cell_type": "code",
   "execution_count": 2,
   "metadata": {},
   "outputs": [],
   "source": [
    "# Import all data\n",
    "# assign path\n",
    "path, dirs, files = next(os.walk(\"../data/raw_data/wr_stats/\"))\n",
    "file_count = len(files)\n",
    "# create empty list\n",
    "dataframes_list = []\n",
    " \n",
    "# append datasets to the list\n",
    "for i in range(file_count):\n",
    "    temp_df = pd.read_csv(\"../data/raw_data/wr_stats/\"+files[i], thousands=',')\n",
    "    dataframes_list.append(temp_df)\n",
    "    \n",
    "# Array to store dataframe names\n",
    "dataframes_names = []\n",
    "\n",
    "for i in range(len(dataframes_list)):\n",
    "    # If a player value is null, drop the row\n",
    "    dataframes_list[i] = dataframes_list[i].dropna(subset=['Player'])\n",
    "   \n",
    "   # Rename all the dataframes as name of original csv file with date at the end (i.e. 2018_qb_stats.csv --> qb_stats_2018)\n",
    "    globals()[files[i][5:].removesuffix('.csv')+'_'+files[i][:4]] = dataframes_list[i]\n",
    "    dataframes_names.append(files[i][5:].removesuffix('.csv')+'_'+files[i][:4])"
   ]
  },
  {
   "cell_type": "code",
   "execution_count": 3,
   "metadata": {},
   "outputs": [],
   "source": [
    "#Convert Percentage String to Percentage Float\n",
    "# float(x.strip('%'))/100\n",
    "def percent (row):\n",
    "    if row['% TM'] == None:\n",
    "        return 0\n",
    "    return float(row['% TM'].strip('%'))/100\n",
    "\n",
    "def merge(df1, df2):\n",
    "        # # merge stats and advanced stats\n",
    "        df3= pd.merge(left=df1, right=df2, on='Player', how='left').fillna(0)\n",
    "        \n",
    "        drop_y(df3)\n",
    "        rename_x(df3)\n",
    "        \n",
    "        # Fix Names\n",
    "        df3.insert(2, 'NAME', df3.apply (lambda row: team_remove(row), axis=1))\n",
    "        df3 = df3.drop(columns='Player')\n",
    "        \n",
    "        # Adjust Target Share\n",
    "        df3.insert(2, 'TGT_SHARE', df3.apply (lambda row: percent(row), axis=1))\n",
    "        df3 = df3.drop(columns='% TM')\n",
    "    \n",
    "        \n",
    "        # Convert all objects to floats\n",
    "        cols = df3.columns\n",
    "        df3[cols[3:]] = df3[cols[3:]].apply(pd.to_numeric, errors ='coerce')\n",
    "        \n",
    "        return df3"
   ]
  },
  {
   "cell_type": "code",
   "execution_count": 4,
   "metadata": {},
   "outputs": [],
   "source": [
    "for i in range(len(dataframes_names)-1):\n",
    "    if dataframes_names[i][-4:] == dataframes_names[i+1][-4:]:\n",
    "        df1 = globals()[dataframes_names[i]] \n",
    "        df2 = globals()[dataframes_names[i+1]]\n",
    "        \n",
    "        # rename columns in stats dataframe\n",
    "        df1 = df1.rename(\n",
    "            columns={'Rank':'RANK', 'YDS':'REC_YDS', 'RZ TGT': 'RZ_TGT'}).drop(\n",
    "                columns=['10+ YDS', '20+ YDS', '30+ YDS', '40+ YDS', '50+ YDS', 'CATCHABLE', 'DROP', 'LNG', 'YBC', 'YBC/R'])\n",
    "        df2 = df2.rename(\n",
    "            columns={'Rank':'RANK', 'YDS':'REC_YDS', 'TD':'REC_TD', 'ATT':'RUS_ATT', 'YDS.1':'RUS_YDS', 'TD.1':'RUS_TD',}).drop(\n",
    "                columns=['ROST', '20+', 'LG'])\n",
    "            \n",
    "        # Return new dataframe\n",
    "        globals()[dataframes_names[i+1]] = merge(df1, df2)\n",
    "        # \n",
    "# Change dataframes_names to contian only the mutated dataframes\n",
    "dataframes_names = dataframes_names[1::2]"
   ]
  },
  {
   "cell_type": "code",
   "execution_count": 5,
   "metadata": {},
   "outputs": [],
   "source": [
    "# export new csv files\n",
    "for df in dataframes_names:\n",
    "    globals()[df].to_csv(f'../data/clean_data/wr_stats_clean/{df}_clean.csv', index=False)"
   ]
  }
 ],
 "metadata": {
  "kernelspec": {
   "display_name": "Python 3",
   "language": "python",
   "name": "python3"
  },
  "language_info": {
   "codemirror_mode": {
    "name": "ipython",
    "version": 3
   },
   "file_extension": ".py",
   "mimetype": "text/x-python",
   "name": "python",
   "nbconvert_exporter": "python",
   "pygments_lexer": "ipython3",
   "version": "3.11.4"
  },
  "orig_nbformat": 4
 },
 "nbformat": 4,
 "nbformat_minor": 2
}

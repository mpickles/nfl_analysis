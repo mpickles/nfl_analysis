{
 "cells": [
  {
   "cell_type": "markdown",
   "metadata": {},
   "source": [
    "# Running Back Data Cleaning"
   ]
  },
  {
   "cell_type": "code",
   "execution_count": 1,
   "metadata": {},
   "outputs": [],
   "source": [
    "# import packages\n",
    "import os\n",
    "import pandas as pd\n",
    "import numpy as np\n",
    "import re\n",
    "import sys\n",
    "sys.path.append('../src/')\n",
    "from helpers import *\n"
   ]
  },
  {
   "cell_type": "code",
   "execution_count": 2,
   "metadata": {},
   "outputs": [],
   "source": [
    "# Import all data\n",
    "# assign path\n",
    "path, dirs, files = next(os.walk(\"../data/raw_data/rb_stats/\"))\n",
    "file_count = len(files)\n",
    "# create empty list\n",
    "dataframes_list = []\n",
    " \n",
    "# append datasets to the list\n",
    "for i in range(file_count):\n",
    "    temp_df = pd.read_csv(\"../data/raw_data/rb_stats/\"+files[i], thousands=',')\n",
    "    dataframes_list.append(temp_df)\n",
    "    \n",
    "# Array to store dataframe names\n",
    "dataframes_names = []\n",
    "\n",
    "for i in range(len(dataframes_list)):\n",
    "    # If a player value is null, drop the row\n",
    "    dataframes_list[i] = dataframes_list[i].dropna(subset=['Player'])\n",
    "   \n",
    "   # Rename all the dataframes as name of original csv file with date at the end (i.e. 2018_qb_stats.csv --> qb_stats_2018)\n",
    "    globals()[files[i][5:].removesuffix('.csv')+'_'+files[i][:4]] = dataframes_list[i]\n",
    "    dataframes_names.append(files[i][5:].removesuffix('.csv')+'_'+files[i][:4])"
   ]
  },
  {
   "cell_type": "code",
   "execution_count": 3,
   "metadata": {},
   "outputs": [],
   "source": [
    "# function to compute implied targets\n",
    "def comp_imp_att (row):\n",
    "    if row['RUS_ATT'] == 0 and row['TGT']:\n",
    "        return 0\n",
    "    return row['RUS_ATT'] + row['TGT']\n",
    "\n",
    "def merge(df1, df2):\n",
    "    # merge stats and advanced stats\n",
    "    df3= pd.merge(left=df1, right=df2, on='Player', how='left').fillna(0)\n",
    "    drop_y(df3)\n",
    "    rename_x(df3)\n",
    "    \n",
    "    # Add implied targets \n",
    "    df3.insert(2, 'IMP_ATT', df3.apply (lambda row: comp_imp_att(row), axis=1))\n",
    "    \n",
    "    # Fix Names\n",
    "    df3.insert(2, 'NAME', df3.apply (lambda row: team_remove(row), axis=1))\n",
    "    df3 = df3.drop(columns='Player')\n",
    "    \n",
    "    # # Add Snaps + Green zone Att\n",
    "    tmp_df = pd.merge(snaps[i//4], grz_att[i//4], how= 'outer', on='NAME').fillna(0)\n",
    "    df3 = pd.merge(left=df3, right=tmp_df, how='left', on = 'NAME', )\n",
    "    \n",
    "    # Convert all objects to floats\n",
    "    cols = df3.columns\n",
    "    df3[cols[3:]] = df3[cols[3:]].apply(pd.to_numeric, errors ='coerce')\n",
    "    \n",
    "    # Move Fantasy Point to end of Dataframe\n",
    "    df3 = df3[[c for c in df3 if c not in ['FPTS', 'FPTS/G']] + ['FPTS', 'FPTS/G']]\n",
    "    df3 = df3.fillna(0)\n",
    "    return df3"
   ]
  },
  {
   "cell_type": "code",
   "execution_count": 4,
   "metadata": {},
   "outputs": [],
   "source": [
    "# Series for green zone attempts and snaps\n",
    "snaps = []\n",
    "grz_att = []\n",
    "\n",
    "for i in range(len(dataframes_names)//4):\n",
    "    tmp_df1 = globals()[dataframes_names[(i * 4) + 2]][['Player', 'TTL']]\n",
    "    tmp_df2 = globals()[dataframes_names[(i * 4) + 1]][['Player', 'ATT']]\n",
    "    snaps.append(tmp_df1)\n",
    "    snaps[i] = snaps[i].rename(columns={'Player':'NAME', 'TTL': 'SNAPS'})\n",
    "    \n",
    "    grz_att.append(tmp_df2)\n",
    "    grz_att[i].insert(1, 'NAME', grz_att[i].apply (lambda row: team_remove(row), axis=1))\n",
    "    grz_att[i] = grz_att[i].drop(columns='Player').rename(columns={'ATT': 'GRZ_ATT'})"
   ]
  },
  {
   "cell_type": "code",
   "execution_count": 5,
   "metadata": {},
   "outputs": [],
   "source": [
    "for i in range(len(dataframes_names)-3):\n",
    "    if dataframes_names[i][-4:] == dataframes_names[i+3][-4:]:\n",
    "            df1 =  globals()[dataframes_names[i+3]]\n",
    "            df2 =  globals()[dataframes_names[i]]\n",
    "            \n",
    "            # rename columns in stats dataframe\n",
    "            df1 =df1.rename(\n",
    "                columns={'Rank':'RANK','ATT':'RUS_ATT', 'YDS':'RUS_YDS', 'Y/A':'RUS_Y/A', \n",
    "                         '20+':'EXPLO', 'TD':'RUS_TD', 'YDS.1':'REC_YDS', 'TD.1':'REC_TD'}).drop(\n",
    "                    columns=['ROST'])\n",
    "            df2 = df2.rename(\n",
    "                columns={'Rank':'RANK','ATT':'RUS_ATT', 'YDS':'RUS_YDS', 'Y/A':'RUS_Y/A', 'YACON.1':'RUS_YACON'}).drop(\n",
    "                    columns=['TK LOSS', 'TK LOSS YDS', 'LNG TD', '10+ YDS', '20+ YDS', '30+ YDS', '40+ YDS', '50+ YDS','LNG', 'Y/ATT'])\n",
    "                \n",
    "            globals()[dataframes_names[i+3]] = merge(df1, df2)\n",
    "\n",
    "# Change dataframes_names to contian only the mutated dataframes\n",
    "dataframes_names = dataframes_names[3::4]"
   ]
  },
  {
   "cell_type": "code",
   "execution_count": 6,
   "metadata": {},
   "outputs": [],
   "source": [
    "# export new csv files\n",
    "for df in dataframes_names:\n",
    "    globals()[df].to_csv(f'../data/clean_data/rb_stats_clean/{df}_clean.csv', index=False)"
   ]
  }
 ],
 "metadata": {
  "kernelspec": {
   "display_name": "Python 3",
   "language": "python",
   "name": "python3"
  },
  "language_info": {
   "codemirror_mode": {
    "name": "ipython",
    "version": 3
   },
   "file_extension": ".py",
   "mimetype": "text/x-python",
   "name": "python",
   "nbconvert_exporter": "python",
   "pygments_lexer": "ipython3",
   "version": "3.12.0"
  },
  "orig_nbformat": 4
 },
 "nbformat": 4,
 "nbformat_minor": 2
}

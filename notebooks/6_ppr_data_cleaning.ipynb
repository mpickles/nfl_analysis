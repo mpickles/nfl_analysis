{
 "cells": [
  {
   "cell_type": "markdown",
   "metadata": {},
   "source": [
    "# FantasyData Cleaning"
   ]
  },
  {
   "cell_type": "code",
   "execution_count": 10,
   "metadata": {},
   "outputs": [],
   "source": [
    "# import packages\n",
    "import os\n",
    "import pandas as pd\n",
    "import numpy as np\n",
    "import matplotlib.pyplot as plt\n",
    "import re"
   ]
  },
  {
   "cell_type": "code",
   "execution_count": 11,
   "metadata": {},
   "outputs": [],
   "source": [
    "# Import all data\n",
    "# assign path\n",
    "path, dirs, files = next(os.walk(\"../data/raw_data/ppr_stats/\"))\n",
    "file_count = len(files)\n",
    "# create empty list\n",
    "dataframes_list = []\n",
    " \n",
    "# append datasets to the list\n",
    "for i in range(file_count):\n",
    "    temp_df = pd.read_csv(\"../data/raw_data/ppr_stats/\"+files[i], thousands=',')\n",
    "    dataframes_list.append(temp_df)"
   ]
  },
  {
   "cell_type": "code",
   "execution_count": 12,
   "metadata": {},
   "outputs": [],
   "source": [
    "# Array to store dataframe names\n",
    "dataframes_names = []\n",
    "\n",
    "for i in range(len(dataframes_list)):\n",
    "    # If a player value is null, drop the row\n",
    "    dataframes_list[i] = dataframes_list[i]\n",
    "   \n",
    "   # Rename all the dataframes as name of original csv file with date at the end (i.e. 2018_qb_stats.csv --> qb_stats_2018)\n",
    "    globals()[files[i][5:].removesuffix('.csv')+'_'+files[i][:4]] = dataframes_list[i]\n",
    "    dataframes_names.append(files[i][5:].removesuffix('.csv')+'_'+files[i][:4])"
   ]
  },
  {
   "cell_type": "code",
   "execution_count": 13,
   "metadata": {},
   "outputs": [],
   "source": [
    "# Helpers to clean up resulting left merge\n",
    "def drop_y(df):\n",
    "    # list comprehension of the cols that end with '_y'\n",
    "    to_drop = [x for x in df if x.endswith('_y')]\n",
    "    df.drop(to_drop, axis=1, inplace=True)\n",
    "    \n",
    "def rename_x(df):\n",
    "    for col in df:\n",
    "        if col.endswith('_x'):\n",
    "            df.rename(columns={col:col.rstrip('_x')}, inplace=True)"
   ]
  },
  {
   "cell_type": "code",
   "execution_count": 14,
   "metadata": {},
   "outputs": [],
   "source": [
    "# Rename/Delete Columns, Fill null vals\n",
    "for i in range(len(dataframes_names)):\n",
    "    df1 = globals()[dataframes_names[i]]\n",
    "    if i % 2 == 0:\n",
    "        df1 = df1.rename(\n",
    "            columns={'Name':'NAME', 'Age':'AGE', 'Position': 'POS','AverageDraftPositionPPR':\"ADP\"}).drop(\n",
    "            columns={'Rank', 'Team', 'ByeWeek', 'PositionRank'}\n",
    "            ).dropna(subset=['NAME']).fillna(0)\n",
    "        df1 = df1.mask((df1) == '-', 0)\n",
    "        df1 = df1.mask((df1) == 'BYE', 0)\n",
    "        globals()[dataframes_names[i]] = df1\n",
    "    else:\n",
    "        df1 =  df1.rename(\n",
    "            columns={'#':'RANK', 'Player':'NAME', 'Pos':'POS', 'TTL': 'TOTAL'}).drop(\n",
    "            columns={'Team'}).dropna(\n",
    "            subset=['NAME']).fillna(0)   \n",
    "             \n",
    "        df1 = df1.mask((df1) == '-', 0)\n",
    "        df1 = df1.mask((df1) == 'BYE', 0)\n",
    "        # Convert all objects to floats, Rename Columns\n",
    "        cols = df1.columns\n",
    "        week_cols = df1.columns[~df1.columns.isin(['RANK','NAME', 'POS', 'AVG','TOTAL'])]\n",
    "        \n",
    "        df1[cols[3:]] = df1[cols[3:]].apply(pd.to_numeric, errors ='coerce')\n",
    "        df1.rename(columns = dict(zip(week_cols, 'WEEK_' + week_cols)), inplace=True)\n",
    "        globals()[dataframes_names[i]] = df1"
   ]
  },
  {
   "cell_type": "code",
   "execution_count": 15,
   "metadata": {},
   "outputs": [],
   "source": [
    "def merge(ppr_adp_2023, df2):\n",
    "        # # merge stats and advanced stats\n",
    "        df3= pd.merge(left=ppr_adp_2023, right=df2, on='NAME').fillna(0)\n",
    "        drop_y(df3)\n",
    "        rename_x(df3)\n",
    "        \n",
    "        df3 = df3[(df3['POS'] == 'QB') | (df3['POS'] == 'RB') | (df3['POS'] == 'WR') | (df3['POS'] == 'TE')]\n",
    "        \n",
    "        return df3"
   ]
  },
  {
   "cell_type": "code",
   "execution_count": 16,
   "metadata": {},
   "outputs": [],
   "source": [
    "# 2023 ADP\n",
    "df1 = pd.read_csv('../data/raw_data/ppr_stats/2023_ppr_adp.csv')\n",
    "ppr_adp_2023 = df1.drop(columns=['Team', 'ByeWeek', 'PositionRank']).rename(\n",
    "    columns={'Rank': 'RANK', 'Name':'NAME', \n",
    "             'Age':'AGE', 'Position': 'POS','AverageDraftPositionPPR':\"ADP\"}\n",
    ")"
   ]
  },
  {
   "cell_type": "code",
   "execution_count": 17,
   "metadata": {},
   "outputs": [],
   "source": [
    "# export new csv files\n",
    "for df in dataframes_names:\n",
    "    globals()[df].to_csv(f'../data/clean_data/ppr_stats_clean/{df}_clean.csv', index=False)\n",
    "    \n",
    "ppr_adp_2023.to_csv('../data/clean_data/ppr_stats_clean/ppr_adp_2023_clean.csv', index=False)"
   ]
  }
 ],
 "metadata": {
  "kernelspec": {
   "display_name": "Python 3",
   "language": "python",
   "name": "python3"
  },
  "language_info": {
   "codemirror_mode": {
    "name": "ipython",
    "version": 3
   },
   "file_extension": ".py",
   "mimetype": "text/x-python",
   "name": "python",
   "nbconvert_exporter": "python",
   "pygments_lexer": "ipython3",
   "version": "3.11.4"
  },
  "orig_nbformat": 4
 },
 "nbformat": 4,
 "nbformat_minor": 2
}

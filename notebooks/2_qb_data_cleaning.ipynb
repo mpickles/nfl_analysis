{
 "cells": [
  {
   "cell_type": "markdown",
   "metadata": {},
   "source": [
    "# Quarterback Data Cleaning"
   ]
  },
  {
   "cell_type": "code",
   "execution_count": 1,
   "metadata": {},
   "outputs": [],
   "source": [
    "# import packages\n",
    "import os\n",
    "import pandas as pd\n",
    "import numpy as np\n",
    "import re\n",
    "import sys\n",
    "sys.path.append('../src/')\n",
    "from helpers import *"
   ]
  },
  {
   "cell_type": "code",
   "execution_count": 2,
   "metadata": {},
   "outputs": [],
   "source": [
    "# Import all data\n",
    "# assign path\n",
    "path, dirs, files = next(os.walk(\"../data/raw_data/qb_stats/\"))\n",
    "file_count = len(files)\n",
    "# create empty list\n",
    "dataframes_list = []\n",
    " \n",
    "# append datasets to the list\n",
    "for i in range(file_count):\n",
    "    temp_df = pd.read_csv(\"../data/raw_data/qb_stats/\"+files[i], thousands=',')\n",
    "    dataframes_list.append(temp_df)"
   ]
  },
  {
   "cell_type": "markdown",
   "metadata": {},
   "source": [
    "All the csv files are formatted as \"year_xx_pos_stats\", so this code extracts the name of the file without the \".csv\" suffix and stores the corresponding data in dataframe using the filename as the dataframe name"
   ]
  },
  {
   "cell_type": "code",
   "execution_count": 3,
   "metadata": {},
   "outputs": [],
   "source": [
    "#  Array to store dataframe names\n",
    "dataframes_names = []\n",
    "\n",
    "for i in range(len(dataframes_list)):\n",
    "    # If a player value is null, drop the row\n",
    "    dataframes_list[i] = dataframes_list[i].dropna(subset=['Player'])\n",
    "   \n",
    "   # Rename all the dataframes as name of original csv file with date at the end (i.e. 2018_qb_stats.csv --> qb_stats_2018)\n",
    "    globals()[files[i][5:].removesuffix('.csv')+'_'+files[i][:4]] = dataframes_list[i]\n",
    "    dataframes_names.append(files[i][5:].removesuffix('.csv')+'_'+files[i][:4])#"
   ]
  },
  {
   "cell_type": "markdown",
   "metadata": {},
   "source": [
    "The \"comp_percent\" helper funtion calculates the completion percentage. While the completion percentage was already included, it was not in a numerical format. The \"team_remove\" function removes the team identifier from the Player string. The merge function will take two dataframes and merge them together based on their matching columns"
   ]
  },
  {
   "cell_type": "code",
   "execution_count": 6,
   "metadata": {},
   "outputs": [],
   "source": [
    "# function to add completion percentage\n",
    "def comp_percent (row):\n",
    "    if row['P_ATT'] == 0:\n",
    "        return 0\n",
    "    return row['CMP'] / row['P_ATT']\n",
    "\n",
    "def merge(df1, df2):\n",
    "        # merge stats and advanced stats\n",
    "        df3 = pd.merge(left=df1, right=df2, on='Player', how='left')\n",
    "        drop_y(df3)\n",
    "        rename_x(df3)\n",
    "        \n",
    "        # Add completion percentage\n",
    "        df3.insert(5, 'COMP_PER', round(df3.apply (lambda row: comp_percent(row), axis=1), 3))\n",
    "        \n",
    "        # Fix Names\n",
    "        df3.insert(2, 'NAME', df3.apply (lambda row: team_remove(row), axis=1))\n",
    "        df3 = df3.drop(columns='Player')\n",
    "        \n",
    "        # Convert all objects to floats\n",
    "        cols = df3.columns\n",
    "        df3[cols[3:]] = df3[cols[3:]].apply(pd.to_numeric, errors ='coerce')\n",
    "        \n",
    "        return df3"
   ]
  },
  {
   "cell_type": "markdown",
   "metadata": {},
   "source": [
    "Iterate through the list of dataframes, rename the columns, and merge the regular and advanced yearly stats. Since the dataframes are listed in alphabetical order(i.e. \"adv_qb_stats_2018\" , \"qb_stats_2018\") we just need to compared if the last 4 chars in two dataframes are matching. Since they will be listed next to each other, we can take the ith frame and i+1 frame"
   ]
  },
  {
   "cell_type": "code",
   "execution_count": 7,
   "metadata": {},
   "outputs": [],
   "source": [
    "for i in range(len(dataframes_names)-1):\n",
    "    if dataframes_names[i][-4:] == dataframes_names[i+1][-4:]:\n",
    "        df1 = globals()[dataframes_names[i]] \n",
    "        df2 = globals()[dataframes_names[i+1]]\n",
    "        \n",
    "        # rename columns in stats dataframe\n",
    "        df1 = df1.rename(\n",
    "            columns={'Rank':'RANK','ATT':'P_ATT', 'RZ ATT':'RZ_ATT','YDS':'P_YDS', 'Y/A':'P_Y/A'}).drop(\n",
    "                columns=['PCT', '10+ YDS', '20+ YDS', '30+ YDS', '40+ YDS', '50+ YDS', \n",
    "                         'PKT TIME', 'SK', 'KNCK', 'HRRY', 'BLITZ','POOR','DROP'])\n",
    "        df2 = df2.rename(\n",
    "            columns={'Rank':'RANK','ATT':'P_ATT', 'YDS':'P_YDS', 'Y/A':'P_Y/A', 'ATT.1':'RUS_ATT', 'YDS.1':'RUS_YDS', 'TD.1':'RUS_TD'}).drop(\n",
    "                columns=['PCT', 'ROST'])\n",
    "            \n",
    "        # Return new dataframe\n",
    "        globals()[dataframes_names[i+1]] = merge(df1, df2)\n",
    "        \n",
    "# Change dataframes_names to contian only the mutated dataframes\n",
    "dataframes_names = dataframes_names[1::2]"
   ]
  },
  {
   "cell_type": "code",
   "execution_count": 8,
   "metadata": {},
   "outputs": [],
   "source": [
    "# export new csv files\n",
    "for df in dataframes_names:\n",
    "    globals()[df].to_csv(f'../data/clean_data/qb_stats_clean/{df}_clean.csv', index=False)"
   ]
  }
 ],
 "metadata": {
  "kernelspec": {
   "display_name": "Python 3",
   "language": "python",
   "name": "python3"
  },
  "language_info": {
   "codemirror_mode": {
    "name": "ipython",
    "version": 3
   },
   "file_extension": ".py",
   "mimetype": "text/x-python",
   "name": "python",
   "nbconvert_exporter": "python",
   "pygments_lexer": "ipython3",
   "version": "3.11.4"
  },
  "orig_nbformat": 4
 },
 "nbformat": 4,
 "nbformat_minor": 2
}
